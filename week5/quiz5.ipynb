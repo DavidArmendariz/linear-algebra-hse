{
 "metadata": {
  "language_info": {
   "codemirror_mode": {
    "name": "ipython",
    "version": 3
   },
   "file_extension": ".py",
   "mimetype": "text/x-python",
   "name": "python",
   "nbconvert_exporter": "python",
   "pygments_lexer": "ipython3",
   "version": "3.8.6-final"
  },
  "orig_nbformat": 2,
  "kernelspec": {
   "name": "python38664bitlinearalgebrapipenv18f73170708e442ea92d4eb4bac47064",
   "display_name": "Python 3.8.6 64-bit ('linear-algebra': pipenv)",
   "language": "python"
  }
 },
 "nbformat": 4,
 "nbformat_minor": 2,
 "cells": [
  {
   "cell_type": "code",
   "execution_count": 1,
   "metadata": {},
   "outputs": [],
   "source": [
    "import numpy as np"
   ]
  },
  {
   "cell_type": "code",
   "execution_count": 5,
   "metadata": {},
   "outputs": [
    {
     "output_type": "stream",
     "name": "stdout",
     "text": [
      "1.0\n0.9999999999999999\n-5.45400326236567e-18\n"
     ]
    }
   ],
   "source": [
    "a1 = np.array([1/np.sqrt(11), -1/np.sqrt(11), 3/np.sqrt(11)])\n",
    "b1 = np.array([1/np.sqrt(2), 1/np.sqrt(2), 0])\n",
    "print(np.linalg.norm(a1))\n",
    "print(np.linalg.norm(b1))\n",
    "print(np.dot(a1, b1))"
   ]
  },
  {
   "cell_type": "code",
   "execution_count": 8,
   "metadata": {},
   "outputs": [
    {
     "output_type": "stream",
     "name": "stdout",
     "text": [
      "[1 2 0] [-2.  1.  2.] [-2.57777778  1.28888889 -3.22222222]\n"
     ]
    }
   ],
   "source": [
    "a1 = np.array([1,2,0])\n",
    "a2 = np.array([-1,3,2])\n",
    "a3 = np.array([0,7,-3])\n",
    "b1 = a1\n",
    "b2 = a2 - (np.dot(a2, b1)/np.dot(b1, b1)) * b1\n",
    "b3 = a3 - (np.dot(a3, b1)/np.dot(b1, b1)) * b1 - (np.dot(a3, b2)/np.dot(b2, b2)) * b2\n",
    "print(b1, b2, b3)"
   ]
  },
  {
   "cell_type": "code",
   "execution_count": 14,
   "metadata": {},
   "outputs": [
    {
     "output_type": "execute_result",
     "data": {
      "text/plain": [
       "0.8438105239546116"
      ]
     },
     "metadata": {},
     "execution_count": 14
    }
   ],
   "source": [
    "a1 = np.array([-1,2,1,0])\n",
    "a2 = np.array([-1,0,2,-4])\n",
    "a3 = np.array([3,0,-6,-1])\n",
    "a4 = np.array([4,1,-2,3])\n",
    "b1 = a1\n",
    "b2 = a2 - (np.dot(a2, b1)/np.dot(b1, b1)) * b1\n",
    "b3 = a3 - (np.dot(a3, b1)/np.dot(b1, b1)) * b1 - (np.dot(a3, b2)/np.dot(b2, b2)) * b2\n",
    "b4 = a4 - (np.dot(a4, b1)/np.dot(b1, b1)) * b1 - (np.dot(a4, b2)/np.dot(b2, b2)) * b2 - (np.dot(a4, b3)/np.dot(a4, b3)) * b3\n",
    "b1 = b1 / np.linalg.norm(b1)\n",
    "b2 = b2 / np.linalg.norm(b2)\n",
    "b3 = b3 / np.linalg.norm(b3)\n",
    "b4 = b4 / np.linalg.norm(b4)\n",
    "np.max(b4)"
   ]
  },
  {
   "cell_type": "code",
   "execution_count": 15,
   "metadata": {},
   "outputs": [
    {
     "output_type": "execute_result",
     "data": {
      "text/plain": [
       "3.605551275463989"
      ]
     },
     "metadata": {},
     "execution_count": 15
    }
   ],
   "source": [
    "a = np.array([-2,0,3])\n",
    "np.linalg.norm(a)"
   ]
  },
  {
   "cell_type": "code",
   "execution_count": 16,
   "metadata": {},
   "outputs": [
    {
     "output_type": "execute_result",
     "data": {
      "text/plain": [
       "15.0"
      ]
     },
     "metadata": {},
     "execution_count": 16
    }
   ],
   "source": [
    "a = np.array([9,-12,0])\n",
    "np.linalg.norm(a)"
   ]
  },
  {
   "cell_type": "code",
   "execution_count": 29,
   "metadata": {},
   "outputs": [
    {
     "output_type": "stream",
     "name": "stdout",
     "text": [
      "(Matrix([\n[1, 0, -6, -5],\n[0, 1, -5, -8],\n[0, 0,  0,  0],\n[0, 0,  0,  0]]), (0, 1))\n0.9058632541913364\n"
     ]
    }
   ],
   "source": [
    "from sympy import Matrix\n",
    "A = np.array([[1,-1,-1,3], [-2,1,7,2], [-2,0,12,10], [-3,2,8,-1]])\n",
    "M = Matrix(A).rref()\n",
    "print(M)\n",
    "a1 = np.array([6,5,1,0])\n",
    "a2 = np.array([5,8,0,1])\n",
    "a3 = np.array([1,0,1,-1])\n",
    "b1 = a1\n",
    "b2 = a2 - (np.dot(a2, b1)/np.dot(b1, b1)) * b1\n",
    "b3 = a3 - (np.dot(a3, b1)/np.dot(b1, b1)) * b1 - (np.dot(a3, b2)/np.dot(b2, b2)) * b2\n",
    "print(np.linalg.norm(b3))"
   ]
  },
  {
   "cell_type": "code",
   "execution_count": 19,
   "metadata": {},
   "outputs": [
    {
     "output_type": "stream",
     "name": "stdout",
     "text": [
      "[[-0.70710678  0.70710678  0.        ]\n [-0.          0.         -1.        ]\n [-0.70710678 -0.70710678  0.        ]]\n[[-1.41421356 -0.70710678 -2.12132034]\n [ 0.         -0.70710678  0.70710678]\n [ 0.          0.         -1.        ]]\n"
     ]
    }
   ],
   "source": [
    "A = np.array([[1,0,2], [0,0,1], [1,1,1]])\n",
    "q, r = np.linalg.qr(A)\n",
    "print(q)\n",
    "print(r)"
   ]
  },
  {
   "cell_type": "code",
   "execution_count": 22,
   "metadata": {},
   "outputs": [
    {
     "output_type": "stream",
     "name": "stdout",
     "text": [
      "[[-3.31662479 -0.60302269  2.7136021 ]\n [ 0.         -2.3741027  -3.63773801]\n [ 0.          0.         -0.63500064]]\n-7.852886724691756\n"
     ]
    }
   ],
   "source": [
    "A = np.array([[3,1,-2], [1,1,1], [-1,2,4]])\n",
    "q, r = np.linalg.qr(A)\n",
    "print(r)\n",
    "print(np.sum(r))"
   ]
  },
  {
   "cell_type": "code",
   "execution_count": 24,
   "metadata": {},
   "outputs": [
    {
     "output_type": "stream",
     "name": "stdout",
     "text": [
      "[ 5. -5.  1.]\n[[ 0.89442719 -0.4472136   0.        ]\n [ 0.          0.          1.        ]\n [ 0.4472136   0.89442719  0.        ]]\n"
     ]
    }
   ],
   "source": [
    "A = np.array([[3,0,4], [0,1,0], [4,0,-3]])\n",
    "w, v = np.linalg.eig(A)\n",
    "print(w)\n",
    "print(v)"
   ]
  },
  {
   "cell_type": "code",
   "execution_count": 25,
   "metadata": {},
   "outputs": [
    {
     "output_type": "stream",
     "name": "stdout",
     "text": [
      "[-7.  5. -1.]\n[[ 5.77350269e-01 -7.07106781e-01 -4.08248290e-01]\n [-5.77350269e-01  2.85835702e-17 -8.16496581e-01]\n [-5.77350269e-01 -7.07106781e-01  4.08248290e-01]]\n"
     ]
    }
   ],
   "source": [
    "A = np.array([[0,2,5], [2,-3,-2], [5,-2,0]])\n",
    "w, v = np.linalg.eig(A)\n",
    "print(w)\n",
    "print(v)"
   ]
  },
  {
   "cell_type": "code",
   "execution_count": null,
   "metadata": {},
   "outputs": [],
   "source": []
  }
 ]
}