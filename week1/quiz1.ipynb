{
 "cells": [
  {
   "cell_type": "code",
   "execution_count": 2,
   "metadata": {},
   "outputs": [],
   "source": [
    "import numpy as np"
   ]
  },
  {
   "cell_type": "code",
   "execution_count": 3,
   "metadata": {},
   "outputs": [
    {
     "output_type": "execute_result",
     "data": {
      "text/plain": [
       "-42"
      ]
     },
     "metadata": {},
     "execution_count": 3
    }
   ],
   "source": [
    "A = np.array([[3,1,-2],[1,1,4]])\n",
    "B = np.array([[0,2,-3],[2,1,0],[1,1,1]])\n",
    "C = np.array([[4,1,-2],[2,0,0],[-4,0,-1]])\n",
    "D = np.array([[2,-1],[0,-5],[-1,0]])\n",
    "np.sum(A @ (B + C) @ D)"
   ]
  },
  {
   "cell_type": "code",
   "execution_count": 4,
   "metadata": {},
   "outputs": [
    {
     "output_type": "execute_result",
     "data": {
      "text/plain": [
       "array([-4.00000000e+00,  1.33226763e-15, -3.00000000e+00,  2.00000000e+00])"
      ]
     },
     "metadata": {},
     "execution_count": 4
    }
   ],
   "source": [
    "A = np.array([[1,5,-2,1],[3,16,-3,11],[0,0,6,10],[-5,-25,10,-1]])\n",
    "B = np.array([4,19,2,-12])\n",
    "np.linalg.solve(A, B)"
   ]
  },
  {
   "cell_type": "code",
   "execution_count": 5,
   "metadata": {},
   "outputs": [
    {
     "output_type": "execute_result",
     "data": {
      "text/plain": [
       "array([ 0.23529412, -0.35294118,  1.35294118])"
      ]
     },
     "metadata": {},
     "execution_count": 5
    }
   ],
   "source": [
    "A = np.array([[1,-2,3],[-3,0,2],[1,-1,4]])\n",
    "B = np.array([5,2,6])\n",
    "np.linalg.solve(A, B)"
   ]
  },
  {
   "cell_type": "code",
   "execution_count": 6,
   "metadata": {},
   "outputs": [
    {
     "output_type": "execute_result",
     "data": {
      "text/plain": [
       "array([ 1.375, -0.5  ])"
      ]
     },
     "metadata": {},
     "execution_count": 6
    }
   ],
   "source": [
    "A = np.array([[0,-2], [4,7]])\n",
    "B = np.array([1,2])\n",
    "np.linalg.solve(A, B)"
   ]
  },
  {
   "cell_type": "code",
   "execution_count": 7,
   "metadata": {},
   "outputs": [
    {
     "output_type": "execute_result",
     "data": {
      "text/plain": [
       "array([[  1. ,   0.5,  -5.5],\n",
       "       [  0. ,   0. ,   1. ],\n",
       "       [  2. ,   1.5, -11.5]])"
      ]
     },
     "metadata": {},
     "execution_count": 7
    }
   ],
   "source": [
    "A = np.array([[3,5,-1], [-4,1,2], [0,1,0]])\n",
    "np.linalg.inv(A)"
   ]
  },
  {
   "cell_type": "code",
   "execution_count": 8,
   "metadata": {},
   "outputs": [
    {
     "output_type": "stream",
     "name": "stdout",
     "text": [
      "[[ 1.00000000e+00 -0.00000000e+00 -1.00000000e+00  1.11022302e-16]\n [ 7.00000000e+00  3.00000000e+00 -1.20000000e+01 -1.00000000e+00]\n [-1.20000000e+01 -5.00000000e+00  2.10000000e+01  2.00000000e+00]\n [ 5.00000000e+00  2.00000000e+00 -8.00000000e+00 -1.00000000e+00]]\n"
     ]
    },
    {
     "output_type": "execute_result",
     "data": {
      "text/plain": [
       "21.0"
      ]
     },
     "metadata": {},
     "execution_count": 8
    }
   ],
   "source": [
    "A = np.array([[1,1,1,1], [-2,3,2,1], [0,1,1,1], [1,3,1,-2]])\n",
    "print(np.linalg.inv(A))\n",
    "np.max(np.linalg.inv(A))"
   ]
  },
  {
   "cell_type": "code",
   "execution_count": 9,
   "metadata": {},
   "outputs": [
    {
     "output_type": "execute_result",
     "data": {
      "text/plain": [
       "array([], dtype=float64)"
      ]
     },
     "metadata": {},
     "execution_count": 9
    }
   ],
   "source": [
    "A = np.array([])\n",
    "A"
   ]
  },
  {
   "cell_type": "code",
   "execution_count": 10,
   "metadata": {},
   "outputs": [
    {
     "output_type": "execute_result",
     "data": {
      "text/plain": [
       "array([ 1.5, -2.5,  0.5])"
      ]
     },
     "metadata": {},
     "execution_count": 10
    }
   ],
   "source": [
    "A = np.array([[1,1,0], [2,1,1], [-1,0,1]])\n",
    "B = np.array([-1,1,-1])\n",
    "np.linalg.solve(A, B)"
   ]
  },
  {
   "cell_type": "code",
   "execution_count": 11,
   "metadata": {},
   "outputs": [
    {
     "output_type": "execute_result",
     "data": {
      "text/plain": [
       "-0.5"
      ]
     },
     "metadata": {},
     "execution_count": 11
    }
   ],
   "source": [
    "np.sum(np.linalg.solve(A,B))"
   ]
  },
  {
   "cell_type": "code",
   "execution_count": 12,
   "metadata": {},
   "outputs": [
    {
     "output_type": "execute_result",
     "data": {
      "text/plain": [
       "array([[  6,  30,  15,  -6],\n",
       "       [ 12,  60,  30, -12],\n",
       "       [ 18,  90,  45, -18],\n",
       "       [ -6, -30, -15,   6]])"
      ]
     },
     "metadata": {},
     "execution_count": 12
    }
   ],
   "source": [
    "C = np.array([[1,2,3,-1]])\n",
    "B = np.array([[1,3,1,0],[1,0,-1,2],[0,0,1,2],[-1,1,0,1]])\n",
    "C.T @ C @ B.T @ B"
   ]
  },
  {
   "cell_type": "code",
   "execution_count": 23,
   "metadata": {},
   "outputs": [],
   "source": [
    "from sympy import Matrix, pprint"
   ]
  },
  {
   "cell_type": "code",
   "execution_count": 24,
   "metadata": {},
   "outputs": [
    {
     "output_type": "stream",
     "name": "stdout",
     "text": [
      "⎛⎡1  0  0  -3/4⎤           ⎞\n⎜⎢             ⎥           ⎟\n⎜⎢         -13 ⎥           ⎟\n⎜⎢0  1  0  ────⎥           ⎟\n⎜⎢          12 ⎥, (0, 1, 2)⎟\n⎜⎢             ⎥           ⎟\n⎜⎢0  0  1  5/12⎥           ⎟\n⎜⎢             ⎥           ⎟\n⎝⎣0  0  0   0  ⎦           ⎠\n"
     ]
    }
   ],
   "source": [
    "A = np.array([[1,1,2,-1], [-1,0,3,2], [2,-1,1,0], [0,1,5,1]])\n",
    "m = Matrix(A).rref()\n",
    "pprint(m)"
   ]
  },
  {
   "cell_type": "code",
   "execution_count": 17,
   "metadata": {},
   "outputs": [
    {
     "output_type": "stream",
     "name": "stdout",
     "text": [
      "[[ 1.          0.          0.        ]\n [-0.16666667  1.          0.        ]\n [ 0.5        -0.27272727  1.        ]]\n\n\n[[-6.          7.          1.        ]\n [ 0.         -1.83333333  2.16666667]\n [ 0.          0.          0.09090909]]\n"
     ]
    }
   ],
   "source": [
    "import scipy.linalg\n",
    "A = np.array([[-3,4,0], [1,-3,2], [-6,7,1]])\n",
    "P, L, U = scipy.linalg.lu(A)\n",
    "print(L)\n",
    "print(\"\\n\")\n",
    "print(U)"
   ]
  }
 ],
 "metadata": {
  "kernelspec": {
   "display_name": "Python 3.8.6 64-bit ('linear-algebra': pipenv)",
   "language": "python",
   "name": "python38664bitlinearalgebrapipenv18f73170708e442ea92d4eb4bac47064"
  },
  "language_info": {
   "codemirror_mode": {
    "name": "ipython",
    "version": 3
   },
   "file_extension": ".py",
   "mimetype": "text/x-python",
   "name": "python",
   "nbconvert_exporter": "python",
   "pygments_lexer": "ipython3",
   "version": "3.8.6-final"
  }
 },
 "nbformat": 4,
 "nbformat_minor": 4
}