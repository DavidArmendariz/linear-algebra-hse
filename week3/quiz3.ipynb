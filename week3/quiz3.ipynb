{
 "metadata": {
  "language_info": {
   "codemirror_mode": {
    "name": "ipython",
    "version": 3
   },
   "file_extension": ".py",
   "mimetype": "text/x-python",
   "name": "python",
   "nbconvert_exporter": "python",
   "pygments_lexer": "ipython3",
   "version": "3.8.6-final"
  },
  "orig_nbformat": 2,
  "kernelspec": {
   "name": "python38664bitlinearalgebrapipenv18f73170708e442ea92d4eb4bac47064",
   "display_name": "Python 3.8.6 64-bit ('linear-algebra': pipenv)",
   "language": "python"
  }
 },
 "nbformat": 4,
 "nbformat_minor": 2,
 "cells": [
  {
   "cell_type": "code",
   "execution_count": 5,
   "metadata": {},
   "outputs": [],
   "source": [
    "import numpy as np\n",
    "import math"
   ]
  },
  {
   "cell_type": "code",
   "execution_count": 2,
   "metadata": {},
   "outputs": [
    {
     "output_type": "execute_result",
     "data": {
      "text/plain": [
       "11.0"
      ]
     },
     "metadata": {},
     "execution_count": 2
    }
   ],
   "source": [
    "x = np.array([8,6,4,2,1])\n",
    "np.linalg.norm(x)"
   ]
  },
  {
   "cell_type": "code",
   "execution_count": 3,
   "metadata": {},
   "outputs": [
    {
     "output_type": "execute_result",
     "data": {
      "text/plain": [
       "7.681145747868608"
      ]
     },
     "metadata": {},
     "execution_count": 3
    }
   ],
   "source": [
    "x = np.array([1,-7,3])\n",
    "np.linalg.norm(x)"
   ]
  },
  {
   "cell_type": "code",
   "execution_count": 10,
   "metadata": {},
   "outputs": [
    {
     "output_type": "stream",
     "name": "stdout",
     "text": [
      "-3\n"
     ]
    }
   ],
   "source": [
    "x = np.array([1,-3,0])\n",
    "y = np.array([0,1,-7])\n",
    "dot_product = np.dot(x, y)\n",
    "print(dot_product)"
   ]
  },
  {
   "cell_type": "code",
   "execution_count": 16,
   "metadata": {},
   "outputs": [
    {
     "output_type": "stream",
     "name": "stdout",
     "text": [
      "-0.15701857325533194\n"
     ]
    }
   ],
   "source": [
    "x = np.array([3,1,2,5])\n",
    "y = np.array([-1,4,-3,0])\n",
    "dot_product = np.dot(x, y)\n",
    "x_norm = np.linalg.norm(x)\n",
    "y_norm = np.linalg.norm(y)\n",
    "result = dot_product / (x_norm * y_norm)\n",
    "print(result)"
   ]
  },
  {
   "cell_type": "code",
   "execution_count": 17,
   "metadata": {},
   "outputs": [],
   "source": [
    "A = np.array([[1,1,1,1],[2,3,0,-1],[1,2,1,3],[1,3,-1,0]])\n",
    "b = np.zeros(4)\n",
    "# np.linalg.solve(A, b)"
   ]
  },
  {
   "cell_type": "code",
   "execution_count": 18,
   "metadata": {},
   "outputs": [
    {
     "output_type": "execute_result",
     "data": {
      "text/plain": [
       "36"
      ]
     },
     "metadata": {},
     "execution_count": 18
    }
   ],
   "source": [
    "x = np.array([9,-2,4])\n",
    "y = np.array([2,-5,2])\n",
    "np.dot(x, y)"
   ]
  },
  {
   "cell_type": "code",
   "execution_count": 28,
   "metadata": {},
   "outputs": [
    {
     "output_type": "execute_result",
     "data": {
      "text/plain": [
       "array([ 3, -2,  4])"
      ]
     },
     "metadata": {},
     "execution_count": 28
    }
   ],
   "source": [
    "f1 = np.array([-3,0,2])\n",
    "f2 = np.array([2,1,2])\n",
    "f3 = np.array([4,4,-2])\n",
    "A = np.column_stack((f1, f2, f3))\n",
    "b = np.zeros(3)\n",
    "np.linalg.solve(A, b)\n",
    "x = np.array([-1,2,-1])\n",
    "A @ x"
   ]
  },
  {
   "cell_type": "code",
   "execution_count": 29,
   "metadata": {},
   "outputs": [
    {
     "output_type": "execute_result",
     "data": {
      "text/plain": [
       "array([11.,  7., -1.])"
      ]
     },
     "metadata": {},
     "execution_count": 29
    }
   ],
   "source": [
    "e1 = np.array([1,0,1])\n",
    "e2 = np.array([-1,-1,0])\n",
    "e3 = np.array([-1,0,3])\n",
    "T = np.column_stack((e1, e2, e3))\n",
    "x = np.array([5,-7,8])\n",
    "np.linalg.inv(T) @ x"
   ]
  },
  {
   "cell_type": "code",
   "execution_count": 30,
   "metadata": {},
   "outputs": [
    {
     "output_type": "execute_result",
     "data": {
      "text/plain": [
       "array([3., 5.])"
      ]
     },
     "metadata": {},
     "execution_count": 30
    }
   ],
   "source": [
    "T1 = np.array([[-1,0], [2,-1]])\n",
    "T2 = np.array([[1,-1], [-3,2]])\n",
    "T3 = np.linalg.inv(T2) @ T1\n",
    "x = np.array([2,3])\n",
    "T3 @ x"
   ]
  },
  {
   "cell_type": "code",
   "execution_count": 31,
   "metadata": {},
   "outputs": [
    {
     "output_type": "execute_result",
     "data": {
      "text/plain": [
       "array([1.66666667, 0.33333333, 1.33333333])"
      ]
     },
     "metadata": {},
     "execution_count": 31
    }
   ],
   "source": [
    "a1 = np.array([1,0,1])\n",
    "a2 = np.array([0,-1,1])\n",
    "A = np.column_stack((a1, a2))\n",
    "x = np.array([1,1,2])\n",
    "A @ np.linalg.inv(A.T @ A) @ A.T @ x"
   ]
  },
  {
   "cell_type": "code",
   "execution_count": 32,
   "metadata": {},
   "outputs": [
    {
     "output_type": "execute_result",
     "data": {
      "text/plain": [
       "array([ 2.35555556, -1.47111111,  2.40888889])"
      ]
     },
     "metadata": {},
     "execution_count": 32
    }
   ],
   "source": [
    "a1 = np.array([2,-1,2])\n",
    "a2 = np.array([1,5,0])\n",
    "x = np.array([0,-1,5])\n",
    "A = np.column_stack((a1, a2))\n",
    "A @ np.linalg.inv(A.T @ A) @ A.T @ x"
   ]
  },
  {
   "cell_type": "code",
   "execution_count": 33,
   "metadata": {},
   "outputs": [
    {
     "output_type": "execute_result",
     "data": {
      "text/plain": [
       "array([-0.18045113, -0.17293233])"
      ]
     },
     "metadata": {},
     "execution_count": 33
    }
   ],
   "source": [
    "a1 = np.array([3,1,0])\n",
    "a2 = np.array([-5,-7,1])\n",
    "A = np.column_stack((a1, a2))\n",
    "b = np.array([0,2,5])\n",
    "np.linalg.inv(A.T @ A) @ A.T @ b"
   ]
  },
  {
   "cell_type": "code",
   "execution_count": 36,
   "metadata": {},
   "outputs": [
    {
     "output_type": "execute_result",
     "data": {
      "text/plain": [
       "5"
      ]
     },
     "metadata": {},
     "execution_count": 36
    }
   ],
   "source": [
    "a1 = np.array([-3,1,3,-2])\n",
    "a2 = np.array([4,3,-2,0])\n",
    "a3 = np.array([4,2,-3,1])\n",
    "a4 = np.array([3,-3,-2,3])\n",
    "A = np.column_stack((a1, a2, a3, a4))\n",
    "y = np.array([1,2,-1,0])\n",
    "np.sum(A @ y)"
   ]
  }
 ]
}