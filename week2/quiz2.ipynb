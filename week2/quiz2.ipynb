{
 "metadata": {
  "language_info": {
   "codemirror_mode": {
    "name": "ipython",
    "version": 3
   },
   "file_extension": ".py",
   "mimetype": "text/x-python",
   "name": "python",
   "nbconvert_exporter": "python",
   "pygments_lexer": "ipython3",
   "version": "3.8.6-final"
  },
  "orig_nbformat": 2,
  "kernelspec": {
   "name": "python38664bitlinearalgebrapipenv18f73170708e442ea92d4eb4bac47064",
   "display_name": "Python 3.8.6 64-bit ('linear-algebra': pipenv)",
   "language": "python"
  }
 },
 "nbformat": 4,
 "nbformat_minor": 2,
 "cells": [
  {
   "cell_type": "code",
   "execution_count": 1,
   "metadata": {},
   "outputs": [],
   "source": [
    "import numpy as np"
   ]
  },
  {
   "cell_type": "code",
   "execution_count": 2,
   "metadata": {},
   "outputs": [
    {
     "output_type": "execute_result",
     "data": {
      "text/plain": [
       "2"
      ]
     },
     "metadata": {},
     "execution_count": 2
    }
   ],
   "source": [
    "A = np.array([[1,4,5],[-5,8,9],[-12,8,8]])\n",
    "np.linalg.matrix_rank(A)"
   ]
  },
  {
   "cell_type": "code",
   "execution_count": 3,
   "metadata": {},
   "outputs": [
    {
     "output_type": "execute_result",
     "data": {
      "text/plain": [
       "3"
      ]
     },
     "metadata": {},
     "execution_count": 3
    }
   ],
   "source": [
    "A = np.array([[4,8,1,-9],[0,5,1,3],[2,9,1,4],[1,7,1,3.5]])\n",
    "np.linalg.matrix_rank(A)"
   ]
  },
  {
   "cell_type": "code",
   "execution_count": 6,
   "metadata": {},
   "outputs": [
    {
     "output_type": "stream",
     "name": "stdout",
     "text": [
      "1\n"
     ]
    }
   ],
   "source": [
    "A = np.array([[0,2,7,-1],[-1,2,5,5],[-4,13,0,6]])\n",
    "result = 4 - np.linalg.matrix_rank(A)\n",
    "print(result)"
   ]
  },
  {
   "cell_type": "code",
   "execution_count": 8,
   "metadata": {},
   "outputs": [
    {
     "output_type": "execute_result",
     "data": {
      "text/plain": [
       "True"
      ]
     },
     "metadata": {},
     "execution_count": 8
    }
   ],
   "source": [
    "A = np.array([[-8,-1,5],[-5,2,7],[0,3,8]])\n",
    "b = np.array([[1],[0],[2]])\n",
    "Ab = np.append(A, b, axis = 1)\n",
    "np.linalg.matrix_rank(A) == np.linalg.matrix_rank(Ab)"
   ]
  },
  {
   "cell_type": "code",
   "execution_count": 9,
   "metadata": {},
   "outputs": [
    {
     "output_type": "stream",
     "name": "stdout",
     "text": [
      "⎛⎡1  0  1   1/2 ⎤        ⎞\n⎜⎢              ⎥        ⎟\n⎜⎢0  1  -1  -5/4⎥, (0, 1)⎟\n⎜⎢              ⎥        ⎟\n⎝⎣0  0  0    0  ⎦        ⎠\n"
     ]
    }
   ],
   "source": [
    "from sympy import Matrix, pprint\n",
    "A = np.array([[3,2,1,-1],[-1,-2,1,2],[1,-2,3,3]])\n",
    "m = Matrix(A).rref()\n",
    "pprint(m)"
   ]
  },
  {
   "cell_type": "code",
   "execution_count": 11,
   "metadata": {},
   "outputs": [
    {
     "output_type": "stream",
     "name": "stdout",
     "text": [
      "⎛⎡1  0  -8/5⎤        ⎞\n⎜⎢          ⎥        ⎟\n⎜⎢0  1  -6/5⎥, (0, 1)⎟\n⎜⎢          ⎥        ⎟\n⎝⎣0  0   0  ⎦        ⎠\n"
     ]
    }
   ],
   "source": [
    "A = np.array([[-3,4,0],[1,-3,2],[-1,-2,4]])\n",
    "m = Matrix(A).rref()\n",
    "pprint(m)"
   ]
  },
  {
   "cell_type": "code",
   "execution_count": 38,
   "metadata": {},
   "outputs": [
    {
     "output_type": "stream",
     "name": "stdout",
     "text": [
      "⎛⎡1  0  0  1/6   1/6 ⎤           ⎞\n⎜⎢                   ⎥           ⎟\n⎜⎢0  1  0  10/9  1/9 ⎥           ⎟\n⎜⎢                   ⎥, (0, 1, 2)⎟\n⎜⎢0  0  1  5/18  5/18⎥           ⎟\n⎜⎢                   ⎥           ⎟\n⎝⎣0  0  0   0     0  ⎦           ⎠\n"
     ]
    }
   ],
   "source": [
    "A = np.array([[1,0,3,1],[5,-1,1,0],[3,7,-1,8],[-3,-2,-1,-3]])\n",
    "b = np.array([1,1,1,-1]).reshape((4, 1))\n",
    "Ab = np.append(A, b, axis = 1)\n",
    "m = Matrix(Ab).rref()\n",
    "pprint(m)"
   ]
  },
  {
   "cell_type": "code",
   "execution_count": 40,
   "metadata": {},
   "outputs": [
    {
     "output_type": "stream",
     "name": "stdout",
     "text": [
      "⎛⎡1  0  0  -2/5   -1/50⎤           ⎞\n⎜⎢                     ⎥           ⎟\n⎜⎢                 14  ⎥           ⎟\n⎜⎢0  1  0   1/5    ──  ⎥           ⎟\n⎜⎢                 25  ⎥           ⎟\n⎜⎢                     ⎥, (0, 1, 2)⎟\n⎜⎢                  29 ⎥           ⎟\n⎜⎢0  0  1  -7/10   ─── ⎥           ⎟\n⎜⎢                 100 ⎥           ⎟\n⎜⎢                     ⎥           ⎟\n⎝⎣0  0  0    0      0  ⎦           ⎠\n"
     ]
    }
   ],
   "source": [
    "A = np.array([[-3,6,2,1],[5,3,-2,0],[1,-1,2,-2],[17,13,14,-14]])\n",
    "b = np.array([4,1,0,11]).reshape((4, 1))\n",
    "b = np.array([[4],[1],[0],[11]])\n",
    "Ab = np.append(A, b, axis = 1)\n",
    "m = Matrix(Ab).rref()\n",
    "pprint(m)"
   ]
  },
  {
   "cell_type": "code",
   "execution_count": 17,
   "metadata": {},
   "outputs": [
    {
     "output_type": "stream",
     "name": "stdout",
     "text": [
      "0\n"
     ]
    }
   ],
   "source": [
    "A = np.array([[3,4,1,2],[-5,6,1,8],[8,-1,3,0],[2,-7,1,3]])\n",
    "result = 4 - np.linalg.matrix_rank(A)\n",
    "print(result)"
   ]
  },
  {
   "cell_type": "code",
   "execution_count": 18,
   "metadata": {},
   "outputs": [
    {
     "output_type": "stream",
     "name": "stdout",
     "text": [
      "3\n"
     ]
    }
   ],
   "source": [
    "A = np.array([[1,-3,1,-2,9],[0,1,-3,-5,4],[-2,7,-5,-1,-14],[1,-5,7,8,1]])\n",
    "result = 5 - np.linalg.matrix_rank(A)\n",
    "print(result)"
   ]
  },
  {
   "cell_type": "code",
   "execution_count": 41,
   "metadata": {},
   "outputs": [
    {
     "output_type": "stream",
     "name": "stdout",
     "text": [
      "⎛⎡      -25    24    13 ⎤        ⎞\n⎜⎢1  0  ────   ──    ── ⎥        ⎟\n⎜⎢       58    29    58 ⎥        ⎟\n⎜⎢                      ⎥        ⎟\n⎜⎢      -12         -10 ⎥        ⎟\n⎜⎢0  1  ────  1/29  ────⎥, (0, 1)⎟\n⎜⎢       29          29 ⎥        ⎟\n⎜⎢                      ⎥        ⎟\n⎜⎢0  0   0     0     0  ⎥        ⎟\n⎜⎢                      ⎥        ⎟\n⎝⎣0  0   0     0     0  ⎦        ⎠\n"
     ]
    }
   ],
   "source": [
    "A = np.array([[6,1,-3,5],[2,39,-17,3],[4,-9,2,3],[-30,-5,15,-25]])\n",
    "b = np.array([1,-13,4,-5]).reshape((4, 1))\n",
    "Ab = np.append(A, b, axis = 1)\n",
    "m = Matrix(Ab).rref()\n",
    "pprint(m)"
   ]
  },
  {
   "cell_type": "code",
   "execution_count": 42,
   "metadata": {},
   "outputs": [
    {
     "output_type": "stream",
     "name": "stdout",
     "text": [
      "⎛⎡1  7  1  -2  7⎤      ⎞\n⎜⎢              ⎥      ⎟\n⎜⎢0  0  0  0   0⎥      ⎟\n⎜⎢              ⎥, (0,)⎟\n⎜⎢0  0  0  0   0⎥      ⎟\n⎜⎢              ⎥      ⎟\n⎝⎣0  0  0  0   0⎦      ⎠\n"
     ]
    }
   ],
   "source": [
    "A = np.array([[1,7,1,-2],[3,21,3,-6],[8,56,8,-16],[11,77,11,-22]])\n",
    "b = np.array([7,21,56,77]).reshape((4, 1))\n",
    "Ab = np.append(A, b, axis = 1)\n",
    "m = Matrix(Ab).rref()\n",
    "pprint(m)"
   ]
  },
  {
   "cell_type": "code",
   "execution_count": 44,
   "metadata": {},
   "outputs": [
    {
     "output_type": "stream",
     "name": "stdout",
     "text": [
      "⎛⎡1  7  1  -2  7⎤      ⎞\n⎜⎢              ⎥      ⎟\n⎜⎢0  0  0  0   0⎥      ⎟\n⎜⎢              ⎥, (0,)⎟\n⎜⎢0  0  0  0   0⎥      ⎟\n⎜⎢              ⎥      ⎟\n⎝⎣0  0  0  0   0⎦      ⎠\n"
     ]
    }
   ],
   "source": [
    "A = np.array([[1,-2,3,-3],[4,4,-1,0],[5,14,-11,9],[-7,-10,5,-3]])\n",
    "m = Matrix(Ab).rref()\n",
    "pprint(m)"
   ]
  }
 ]
}