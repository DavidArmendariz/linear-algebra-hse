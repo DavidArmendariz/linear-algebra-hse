{
 "metadata": {
  "language_info": {
   "codemirror_mode": {
    "name": "ipython",
    "version": 3
   },
   "file_extension": ".py",
   "mimetype": "text/x-python",
   "name": "python",
   "nbconvert_exporter": "python",
   "pygments_lexer": "ipython3",
   "version": "3.8.6-final"
  },
  "orig_nbformat": 2,
  "kernelspec": {
   "name": "python38664bitlinearalgebrapipenv18f73170708e442ea92d4eb4bac47064",
   "display_name": "Python 3.8.6 64-bit ('linear-algebra': pipenv)",
   "language": "python"
  }
 },
 "nbformat": 4,
 "nbformat_minor": 2,
 "cells": [
  {
   "cell_type": "code",
   "execution_count": 40,
   "metadata": {},
   "outputs": [],
   "source": [
    "import numpy as np\n",
    "from scipy.linalg import orth\n",
    "from sympy import Matrix"
   ]
  },
  {
   "cell_type": "code",
   "execution_count": 14,
   "metadata": {},
   "outputs": [
    {
     "output_type": "execute_result",
     "data": {
      "text/plain": [
       "array([[ 11., -30.],\n",
       "       [  2.,  -5.]])"
      ]
     },
     "metadata": {},
     "execution_count": 14
    }
   ],
   "source": [
    "B = np.array([[1,0], [-4,5]])\n",
    "T = np.array([[-1,5], [0,2]])\n",
    "np.linalg.inv(T) @ B @ T"
   ]
  },
  {
   "cell_type": "code",
   "execution_count": 15,
   "metadata": {},
   "outputs": [
    {
     "output_type": "stream",
     "name": "stdout",
     "text": [
      "[[ -51. -215.   65.]\n [  13.   55.  -18.]\n [   7.   27.   -2.]]\n"
     ]
    },
    {
     "output_type": "execute_result",
     "data": {
      "text/plain": [
       "215.0"
      ]
     },
     "metadata": {},
     "execution_count": 15
    }
   ],
   "source": [
    "B = np.array([[1,-3,1], [-5,0,4], [-7,-5,1]])\n",
    "T = np.array([[1,3,2], [0,1,-2], [1,4,-1]])\n",
    "result = np.linalg.inv(T) @ B @ T\n",
    "print(result)\n",
    "np.max(np.abs(result))"
   ]
  },
  {
   "cell_type": "code",
   "execution_count": 16,
   "metadata": {},
   "outputs": [
    {
     "output_type": "stream",
     "name": "stdout",
     "text": [
      "[-2 -1]\n(array([-1.,  2.]), array([[-0.89442719, -0.70710678],\n       [-0.4472136 , -0.70710678]]))\n"
     ]
    }
   ],
   "source": [
    "A = np.array([[-4,6], [-3,5]])\n",
    "v = np.array([2,1])\n",
    "print(A @ v)\n",
    "print(np.linalg.eig(A))"
   ]
  },
  {
   "cell_type": "code",
   "execution_count": 17,
   "metadata": {},
   "outputs": [
    {
     "output_type": "execute_result",
     "data": {
      "text/plain": [
       "array([4, 0, 4])"
      ]
     },
     "metadata": {},
     "execution_count": 17
    }
   ],
   "source": [
    "A = np.array([[-1,2,5], [0,4,0], [1,0,3]])\n",
    "v = np.array([1,0,1])\n",
    "A @ v"
   ]
  },
  {
   "cell_type": "code",
   "execution_count": 18,
   "metadata": {},
   "outputs": [
    {
     "output_type": "stream",
     "name": "stdout",
     "text": [
      "[-1.          1.99999998  2.00000002]\n"
     ]
    }
   ],
   "source": [
    "A = np.array([[2,1,0], [-1,0,1], [1,3,1]])\n",
    "w = np.linalg.eigvals(A)\n",
    "print(w)"
   ]
  },
  {
   "cell_type": "code",
   "execution_count": 19,
   "metadata": {},
   "outputs": [
    {
     "output_type": "execute_result",
     "data": {
      "text/plain": [
       "19.999999999999996"
      ]
     },
     "metadata": {},
     "execution_count": 19
    }
   ],
   "source": [
    "A = np.array([[1,0,1], [-2,1,4], [6,-3,8]])\n",
    "np.linalg.det(A)"
   ]
  },
  {
   "cell_type": "code",
   "execution_count": 20,
   "metadata": {},
   "outputs": [
    {
     "output_type": "stream",
     "name": "stdout",
     "text": [
      "[2. 3.] [[-0.89442719  0.83205029]\n [ 0.4472136  -0.5547002 ]]\n"
     ]
    }
   ],
   "source": [
    "A = np.array([[-1,-6], [2,6]])\n",
    "w, v = np.linalg.eig(A)\n",
    "print(w, v)"
   ]
  },
  {
   "cell_type": "code",
   "execution_count": 21,
   "metadata": {},
   "outputs": [
    {
     "output_type": "stream",
     "name": "stdout",
     "text": [
      "[[ 0.          0.57735027 -0.89442719]\n [ 0.         -0.57735027  0.4472136 ]\n [ 1.          0.57735027  0.        ]]\n"
     ]
    }
   ],
   "source": [
    "A = np.array([[4,4,0], [-2,-2,0], [2,4,2]])\n",
    "w, v = np.linalg.eig(A)\n",
    "print(v)"
   ]
  },
  {
   "cell_type": "code",
   "execution_count": 25,
   "metadata": {},
   "outputs": [
    {
     "output_type": "execute_result",
     "data": {
      "text/plain": [
       "array([[ 0.33333333,  0.66666667, -0.66666667],\n",
       "       [-0.66666667, -0.33333333, -0.66666667],\n",
       "       [ 0.66666667, -0.66666667, -0.33333333]])"
      ]
     },
     "metadata": {},
     "execution_count": 25
    }
   ],
   "source": [
    "A = np.array([[1,2,0], [2,0,2], [0,2,-1]])\n",
    "v, w = np.linalg.eig(A)\n",
    "orth(w)"
   ]
  },
  {
   "cell_type": "code",
   "execution_count": 45,
   "metadata": {},
   "outputs": [
    {
     "output_type": "stream",
     "name": "stdout",
     "text": [
      "[[-0.70710678 -0.5547002 ]\n [-0.70710678 -0.83205029]]\n(Matrix([\n[1, -2/3],\n[0,    0]]), (0,))\n(Matrix([\n[1, -1],\n[0,  0]]), (0,))\n[[ 3. -2.]\n [-3.  3.]]\n"
     ]
    }
   ],
   "source": [
    "A = np.array([[0,2], [-3,5]])\n",
    "w, v = np.linalg.eig(A)\n",
    "print(v)\n",
    "zeros = np.zeros(2)\n",
    "A1 = np.array([[-3,2], [-3,2]])\n",
    "M1 = Matrix(A1).rref()\n",
    "print(M1)\n",
    "A2 = np.array([[-2,2], [-3,3]])\n",
    "M2 = Matrix(A2).rref()\n",
    "print(M2)\n",
    "T = np.array([[1, 2/3], [1, 1]])\n",
    "print(np.linalg.inv(T))"
   ]
  },
  {
   "cell_type": "code",
   "execution_count": null,
   "metadata": {},
   "outputs": [],
   "source": []
  }
 ]
}